{
 "cells": [
  {
   "cell_type": "code",
   "execution_count": 293,
   "id": "e9ab065e",
   "metadata": {},
   "outputs": [],
   "source": [
    "import numpy as np\n",
    "import pandas as pd\n",
    "import matplotlib.pyplot as plt\n",
    "import seaborn as sns\n",
    "\n",
    "from sklearn import preprocessing\n",
    "from sklearn.model_selection import train_test_split\n",
    "from sklearn.linear_model import LogisticRegression\n",
    "from sklearn.metrics import accuracy_score\n",
    "from sklearn.preprocessing import LabelEncoder\n",
    "from sklearn.preprocessing import MinMaxScaler\n",
    "from sklearn.metrics import roc_auc_score\n",
    "from sklearn.metrics import recall_score\n",
    "from sklearn.metrics import precision_score\n",
    "from sklearn.metrics import f1_score"
   ]
  },
  {
   "cell_type": "markdown",
   "id": "847a67d0",
   "metadata": {},
   "source": [
    "# Challenge Overview:\n",
    "\n",
    "Blue Nova Telecoms was born out of a need for reliable and affordable PREMIUM internet connectivity.\n",
    "\n",
    "Below is a challenge which needs to be completed within 72 hours of receipt of this assessment. Task Detail:\n",
    "Predicting churn for telco customers.\n",
    "\n",
    "## Introduction\n",
    "\n",
    "In this challenge we aim to determine whether or not a person will Churn using Customers who left within the last month data , Customer Demographics , Services that each customer has signed up for and Customer account information. As such this is a classification problem and we will be using classification techniques to gain useful insights and make predictions on our dataset.\n",
    "\n",
    "Our dataset contains structure and label data which contains both numerical and categorical data. Also because our data is labeled we will use Supervised Machine Learning Algorithms for our preditions.\n",
    "\n",
    "### Aim\n",
    "* To make recommendations based on analysis\n",
    "* Create interesting data visualisations to demonstrate useful insights.\n",
    "* Make predictions on data to determine whether or not a customer will Churn \n",
    "\n",
    "### Importing Datasets¶\n",
    "\n",
    "The train perfromance dataset\n",
    "\n"
   ]
  },
  {
   "cell_type": "code",
   "execution_count": 294,
   "id": "7f167c3f",
   "metadata": {},
   "outputs": [],
   "source": [
    "dataset = pd.read_csv(\"Downloads\\data.csv\")"
   ]
  },
  {
   "cell_type": "code",
   "execution_count": 295,
   "id": "2970a69b",
   "metadata": {
    "scrolled": true
   },
   "outputs": [
    {
     "data": {
      "text/html": [
       "<div>\n",
       "<style scoped>\n",
       "    .dataframe tbody tr th:only-of-type {\n",
       "        vertical-align: middle;\n",
       "    }\n",
       "\n",
       "    .dataframe tbody tr th {\n",
       "        vertical-align: top;\n",
       "    }\n",
       "\n",
       "    .dataframe thead th {\n",
       "        text-align: right;\n",
       "    }\n",
       "</style>\n",
       "<table border=\"1\" class=\"dataframe\">\n",
       "  <thead>\n",
       "    <tr style=\"text-align: right;\">\n",
       "      <th></th>\n",
       "      <th>Row</th>\n",
       "      <th>customerID</th>\n",
       "      <th>gender</th>\n",
       "      <th>SeniorCitizen</th>\n",
       "      <th>Partner</th>\n",
       "      <th>Dependents</th>\n",
       "      <th>tenure</th>\n",
       "      <th>PhoneService</th>\n",
       "      <th>MultipleLines</th>\n",
       "      <th>InternetService</th>\n",
       "      <th>...</th>\n",
       "      <th>DeviceProtection</th>\n",
       "      <th>TechSupport</th>\n",
       "      <th>StreamingTV</th>\n",
       "      <th>StreamingMovies</th>\n",
       "      <th>Contract</th>\n",
       "      <th>PaperlessBilling</th>\n",
       "      <th>PaymentMethod</th>\n",
       "      <th>MonthlyCharges</th>\n",
       "      <th>TotalCharges</th>\n",
       "      <th>Churn</th>\n",
       "    </tr>\n",
       "  </thead>\n",
       "  <tbody>\n",
       "    <tr>\n",
       "      <th>0</th>\n",
       "      <td>1</td>\n",
       "      <td>5678-VFNEQ</td>\n",
       "      <td>Female</td>\n",
       "      <td>0</td>\n",
       "      <td>Yes</td>\n",
       "      <td>No</td>\n",
       "      <td>71</td>\n",
       "      <td>Yes</td>\n",
       "      <td>Yes</td>\n",
       "      <td>Fiber optic</td>\n",
       "      <td>...</td>\n",
       "      <td>Yes</td>\n",
       "      <td>No</td>\n",
       "      <td>Yes</td>\n",
       "      <td>Yes</td>\n",
       "      <td>One year</td>\n",
       "      <td>Yes</td>\n",
       "      <td>Credit card (automatic)</td>\n",
       "      <td>104.10</td>\n",
       "      <td>7412.25</td>\n",
       "      <td>No</td>\n",
       "    </tr>\n",
       "    <tr>\n",
       "      <th>1</th>\n",
       "      <td>2</td>\n",
       "      <td>5977-CKHON</td>\n",
       "      <td>Female</td>\n",
       "      <td>0</td>\n",
       "      <td>Yes</td>\n",
       "      <td>Yes</td>\n",
       "      <td>43</td>\n",
       "      <td>Yes</td>\n",
       "      <td>Yes</td>\n",
       "      <td>Fiber optic</td>\n",
       "      <td>...</td>\n",
       "      <td>Yes</td>\n",
       "      <td>No</td>\n",
       "      <td>No</td>\n",
       "      <td>Yes</td>\n",
       "      <td>Month-to-month</td>\n",
       "      <td>Yes</td>\n",
       "      <td>Bank transfer (automatic)</td>\n",
       "      <td>92.55</td>\n",
       "      <td>4039</td>\n",
       "      <td>No</td>\n",
       "    </tr>\n",
       "    <tr>\n",
       "      <th>2</th>\n",
       "      <td>3</td>\n",
       "      <td>2692-BUCFV</td>\n",
       "      <td>Male</td>\n",
       "      <td>1</td>\n",
       "      <td>No</td>\n",
       "      <td>No</td>\n",
       "      <td>29</td>\n",
       "      <td>Yes</td>\n",
       "      <td>No</td>\n",
       "      <td>Fiber optic</td>\n",
       "      <td>...</td>\n",
       "      <td>Yes</td>\n",
       "      <td>No</td>\n",
       "      <td>Yes</td>\n",
       "      <td>Yes</td>\n",
       "      <td>Month-to-month</td>\n",
       "      <td>Yes</td>\n",
       "      <td>Bank transfer (automatic)</td>\n",
       "      <td>101.45</td>\n",
       "      <td>2948.6</td>\n",
       "      <td>No</td>\n",
       "    </tr>\n",
       "    <tr>\n",
       "      <th>3</th>\n",
       "      <td>4</td>\n",
       "      <td>7861-UVUFT</td>\n",
       "      <td>Female</td>\n",
       "      <td>0</td>\n",
       "      <td>Yes</td>\n",
       "      <td>No</td>\n",
       "      <td>15</td>\n",
       "      <td>Yes</td>\n",
       "      <td>No</td>\n",
       "      <td>Fiber optic</td>\n",
       "      <td>...</td>\n",
       "      <td>Yes</td>\n",
       "      <td>No</td>\n",
       "      <td>Yes</td>\n",
       "      <td>No</td>\n",
       "      <td>Month-to-month</td>\n",
       "      <td>Yes</td>\n",
       "      <td>Electronic check</td>\n",
       "      <td>84.30</td>\n",
       "      <td>1308.4</td>\n",
       "      <td>Yes</td>\n",
       "    </tr>\n",
       "    <tr>\n",
       "      <th>4</th>\n",
       "      <td>5</td>\n",
       "      <td>1830-GGFNM</td>\n",
       "      <td>Male</td>\n",
       "      <td>0</td>\n",
       "      <td>Yes</td>\n",
       "      <td>Yes</td>\n",
       "      <td>65</td>\n",
       "      <td>Yes</td>\n",
       "      <td>Yes</td>\n",
       "      <td>Fiber optic</td>\n",
       "      <td>...</td>\n",
       "      <td>Yes</td>\n",
       "      <td>Yes</td>\n",
       "      <td>No</td>\n",
       "      <td>No</td>\n",
       "      <td>Two year</td>\n",
       "      <td>No</td>\n",
       "      <td>Credit card (automatic)</td>\n",
       "      <td>94.55</td>\n",
       "      <td>6078.75</td>\n",
       "      <td>No</td>\n",
       "    </tr>\n",
       "  </tbody>\n",
       "</table>\n",
       "<p>5 rows × 22 columns</p>\n",
       "</div>"
      ],
      "text/plain": [
       "   Row  customerID  gender  SeniorCitizen Partner Dependents  tenure  \\\n",
       "0    1  5678-VFNEQ  Female              0     Yes         No      71   \n",
       "1    2  5977-CKHON  Female              0     Yes        Yes      43   \n",
       "2    3  2692-BUCFV    Male              1      No         No      29   \n",
       "3    4  7861-UVUFT  Female              0     Yes         No      15   \n",
       "4    5  1830-GGFNM    Male              0     Yes        Yes      65   \n",
       "\n",
       "  PhoneService MultipleLines InternetService  ... DeviceProtection  \\\n",
       "0          Yes           Yes     Fiber optic  ...              Yes   \n",
       "1          Yes           Yes     Fiber optic  ...              Yes   \n",
       "2          Yes            No     Fiber optic  ...              Yes   \n",
       "3          Yes            No     Fiber optic  ...              Yes   \n",
       "4          Yes           Yes     Fiber optic  ...              Yes   \n",
       "\n",
       "  TechSupport StreamingTV StreamingMovies        Contract PaperlessBilling  \\\n",
       "0          No         Yes             Yes        One year              Yes   \n",
       "1          No          No             Yes  Month-to-month              Yes   \n",
       "2          No         Yes             Yes  Month-to-month              Yes   \n",
       "3          No         Yes              No  Month-to-month              Yes   \n",
       "4         Yes          No              No        Two year               No   \n",
       "\n",
       "               PaymentMethod MonthlyCharges TotalCharges  Churn  \n",
       "0    Credit card (automatic)         104.10      7412.25     No  \n",
       "1  Bank transfer (automatic)          92.55         4039     No  \n",
       "2  Bank transfer (automatic)         101.45       2948.6     No  \n",
       "3           Electronic check          84.30       1308.4    Yes  \n",
       "4    Credit card (automatic)          94.55      6078.75     No  \n",
       "\n",
       "[5 rows x 22 columns]"
      ]
     },
     "execution_count": 295,
     "metadata": {},
     "output_type": "execute_result"
    }
   ],
   "source": [
    "dataset.head()"
   ]
  },
  {
   "cell_type": "markdown",
   "id": "32508312",
   "metadata": {},
   "source": [
    "### Summary Statistics\n",
    "In this section we will explore the data types and the summary statistics of our variables.\n",
    "\n",
    "Let's start by looking at the data types and number of entries of each column."
   ]
  },
  {
   "cell_type": "code",
   "execution_count": 296,
   "id": "430bc0a8",
   "metadata": {},
   "outputs": [
    {
     "name": "stdout",
     "output_type": "stream",
     "text": [
      "<class 'pandas.core.frame.DataFrame'>\n",
      "RangeIndex: 5634 entries, 0 to 5633\n",
      "Data columns (total 22 columns):\n",
      " #   Column            Non-Null Count  Dtype  \n",
      "---  ------            --------------  -----  \n",
      " 0   Row               5634 non-null   int64  \n",
      " 1   customerID        5634 non-null   object \n",
      " 2   gender            5634 non-null   object \n",
      " 3   SeniorCitizen     5634 non-null   int64  \n",
      " 4   Partner           5634 non-null   object \n",
      " 5   Dependents        5634 non-null   object \n",
      " 6   tenure            5634 non-null   int64  \n",
      " 7   PhoneService      5634 non-null   object \n",
      " 8   MultipleLines     5634 non-null   object \n",
      " 9   InternetService   5634 non-null   object \n",
      " 10  OnlineSecurity    5634 non-null   object \n",
      " 11  OnlineBackup      5634 non-null   object \n",
      " 12  DeviceProtection  5634 non-null   object \n",
      " 13  TechSupport       5634 non-null   object \n",
      " 14  StreamingTV       5634 non-null   object \n",
      " 15  StreamingMovies   5634 non-null   object \n",
      " 16  Contract          5634 non-null   object \n",
      " 17  PaperlessBilling  5634 non-null   object \n",
      " 18  PaymentMethod     5634 non-null   object \n",
      " 19  MonthlyCharges    5634 non-null   float64\n",
      " 20  TotalCharges      5634 non-null   object \n",
      " 21  Churn             5634 non-null   object \n",
      "dtypes: float64(1), int64(3), object(18)\n",
      "memory usage: 968.5+ KB\n"
     ]
    }
   ],
   "source": [
    "dataset.info()"
   ]
  },
  {
   "cell_type": "code",
   "execution_count": 297,
   "id": "2bbe811f",
   "metadata": {},
   "outputs": [
    {
     "data": {
      "text/html": [
       "<div>\n",
       "<style scoped>\n",
       "    .dataframe tbody tr th:only-of-type {\n",
       "        vertical-align: middle;\n",
       "    }\n",
       "\n",
       "    .dataframe tbody tr th {\n",
       "        vertical-align: top;\n",
       "    }\n",
       "\n",
       "    .dataframe thead th {\n",
       "        text-align: right;\n",
       "    }\n",
       "</style>\n",
       "<table border=\"1\" class=\"dataframe\">\n",
       "  <thead>\n",
       "    <tr style=\"text-align: right;\">\n",
       "      <th></th>\n",
       "      <th>Row</th>\n",
       "      <th>SeniorCitizen</th>\n",
       "      <th>tenure</th>\n",
       "      <th>MonthlyCharges</th>\n",
       "    </tr>\n",
       "  </thead>\n",
       "  <tbody>\n",
       "    <tr>\n",
       "      <th>count</th>\n",
       "      <td>5634.000000</td>\n",
       "      <td>5634.000000</td>\n",
       "      <td>5634.000000</td>\n",
       "      <td>5634.000000</td>\n",
       "    </tr>\n",
       "    <tr>\n",
       "      <th>mean</th>\n",
       "      <td>2817.500000</td>\n",
       "      <td>0.163117</td>\n",
       "      <td>32.469826</td>\n",
       "      <td>64.451739</td>\n",
       "    </tr>\n",
       "    <tr>\n",
       "      <th>std</th>\n",
       "      <td>1626.540039</td>\n",
       "      <td>0.369505</td>\n",
       "      <td>24.547311</td>\n",
       "      <td>30.178672</td>\n",
       "    </tr>\n",
       "    <tr>\n",
       "      <th>min</th>\n",
       "      <td>1.000000</td>\n",
       "      <td>0.000000</td>\n",
       "      <td>0.000000</td>\n",
       "      <td>18.250000</td>\n",
       "    </tr>\n",
       "    <tr>\n",
       "      <th>25%</th>\n",
       "      <td>1409.250000</td>\n",
       "      <td>0.000000</td>\n",
       "      <td>9.000000</td>\n",
       "      <td>35.100000</td>\n",
       "    </tr>\n",
       "    <tr>\n",
       "      <th>50%</th>\n",
       "      <td>2817.500000</td>\n",
       "      <td>0.000000</td>\n",
       "      <td>29.000000</td>\n",
       "      <td>70.150000</td>\n",
       "    </tr>\n",
       "    <tr>\n",
       "      <th>75%</th>\n",
       "      <td>4225.750000</td>\n",
       "      <td>0.000000</td>\n",
       "      <td>55.000000</td>\n",
       "      <td>89.887500</td>\n",
       "    </tr>\n",
       "    <tr>\n",
       "      <th>max</th>\n",
       "      <td>5634.000000</td>\n",
       "      <td>1.000000</td>\n",
       "      <td>72.000000</td>\n",
       "      <td>118.750000</td>\n",
       "    </tr>\n",
       "  </tbody>\n",
       "</table>\n",
       "</div>"
      ],
      "text/plain": [
       "               Row  SeniorCitizen       tenure  MonthlyCharges\n",
       "count  5634.000000    5634.000000  5634.000000     5634.000000\n",
       "mean   2817.500000       0.163117    32.469826       64.451739\n",
       "std    1626.540039       0.369505    24.547311       30.178672\n",
       "min       1.000000       0.000000     0.000000       18.250000\n",
       "25%    1409.250000       0.000000     9.000000       35.100000\n",
       "50%    2817.500000       0.000000    29.000000       70.150000\n",
       "75%    4225.750000       0.000000    55.000000       89.887500\n",
       "max    5634.000000       1.000000    72.000000      118.750000"
      ]
     },
     "execution_count": 297,
     "metadata": {},
     "output_type": "execute_result"
    }
   ],
   "source": [
    "dataset.describe()"
   ]
  },
  {
   "cell_type": "markdown",
   "id": "364d4668",
   "metadata": {},
   "source": [
    "Due to the nature of some of the features we will need to standardise the values for better predictions"
   ]
  },
  {
   "cell_type": "markdown",
   "id": "2adf4f85",
   "metadata": {},
   "source": [
    "# Exploratory Data Analysis¶\n",
    "\n",
    "## Data Visualisations of Customer account information"
   ]
  },
  {
   "cell_type": "code",
   "execution_count": 298,
   "id": "8a14ad7d",
   "metadata": {},
   "outputs": [
    {
     "data": {
      "text/plain": [
       "<AxesSubplot:>"
      ]
     },
     "execution_count": 298,
     "metadata": {},
     "output_type": "execute_result"
    },
    {
     "data": {
      "image/png": "[encoded data removed]",
      "text/plain": [
       "<Figure size 432x288 with 1 Axes>"
      ]
     },
     "metadata": {
      "needs_background": "light"
     },
     "output_type": "display_data"
    }
   ],
   "source": [
    "dataset[dataset.Churn == 'Yes'].Contract.value_counts().plot(kind = 'bar')"
   ]
  },
  {
   "cell_type": "markdown",
   "id": "329cfdb2",
   "metadata": {},
   "source": [
    "## The plot shows the Customer Contract \n",
    "\n",
    "* We have a large number of customer on a month-to-month who will Churn \n",
    "* We have less than 200 customers on a one year contract who has a chace of churning \n",
    "* Very little number of customers on a two years contract that has a possibility of churning "
   ]
  },
  {
   "cell_type": "code",
   "execution_count": 299,
   "id": "6ba0a6ff",
   "metadata": {},
   "outputs": [
    {
     "data": {
      "image/png": "[encoded data removed]",
      "text/plain": [
       "<Figure size 1080x720 with 4 Axes>"
      ]
     },
     "metadata": {
      "needs_background": "light"
     },
     "output_type": "display_data"
    }
   ],
   "source": [
    "df1 = dataset[dataset.Churn == 'Yes'].SeniorCitizen.value_counts()\n",
    "df2 = dataset[dataset.Churn == 'Yes'].gender.value_counts()\n",
    "df3 = dataset[dataset.Churn == 'Yes'].Partner.value_counts()\n",
    "df4 = dataset[dataset.Churn == 'Yes'].Dependents.value_counts()\n",
    "#define number of rows and columns for subplots\n",
    "nrow=2\n",
    "ncol=2\n",
    "\n",
    "# make a list of all dataframes \n",
    "df_list = [df1 ,df2, df3, df4]\n",
    "\n",
    "df_titles = ['SeniorCitizen', 'gender', 'Partner', 'Dependents']\n",
    "\n",
    "fig, axes = plt.subplots(2,2,figsize=(15,10))\n",
    "\n",
    "# plot counter\n",
    "count=0\n",
    "for r in range(nrow):\n",
    "    for c in range(ncol):\n",
    "        df_list[count].plot(kind='bar', ax=axes[r,c] ,color = ['grey', 'blue'], alpha=0.5, title = df_titles[count], ylabel ='No. Of People')\n",
    "        count+=1"
   ]
  },
  {
   "cell_type": "markdown",
   "id": "21fd661c",
   "metadata": {},
   "source": [
    "### Data Visualisations of Customer Demographics\n",
    "\n",
    "* On the first graph on the qualtrics We have a large number of none-Senior Citizen that who has a high possibility to Churn \n",
    "* Second graph shows that gender has no effect on a person churning or not \n",
    "* Third graph show that number of people who does not have partners has greater risk of churning \n",
    "* Last graph tell us that people with no dependents have a high possibilty of of churning than those you have dependents \n",
    "\n",
    "\n"
   ]
  },
  {
   "cell_type": "code",
   "execution_count": 300,
   "id": "646bfaac",
   "metadata": {},
   "outputs": [
    {
     "data": {
      "image/png": "[encoded data removed]",
      "text/plain": [
       "<Figure size 1440x1080 with 8 Axes>"
      ]
     },
     "metadata": {
      "needs_background": "light"
     },
     "output_type": "display_data"
    }
   ],
   "source": [
    "df1 = dataset[dataset.Churn == 'Yes'].StreamingMovies.value_counts()\n",
    "df2 = dataset[dataset.Churn == 'Yes'].PhoneService.value_counts()\n",
    "df3 = dataset[dataset.Churn == 'Yes'].StreamingTV.value_counts()\n",
    "df4 = dataset[dataset.Churn == 'Yes'].TechSupport.value_counts()\n",
    "df5 = dataset[dataset.Churn == 'Yes'].OnlineBackup.value_counts()\n",
    "df6 = dataset[dataset.Churn == 'Yes'].MultipleLines.value_counts()\n",
    "df7 = dataset[dataset.Churn == 'Yes'].InternetService.value_counts()\n",
    "df8 = dataset[dataset.Churn == 'Yes'].DeviceProtection.value_counts()\n",
    "#define number of rows and columns for subplots\n",
    "nrow=2\n",
    "ncol=4\n",
    "\n",
    "# make a list of all dataframes \n",
    "df_list = [df1 ,df2, df3, df4, df5, df6, df7, df8]\n",
    "\n",
    "df_titles = ['StreamingMovies', 'PhoneService', 'StreamingTV', 'TechSupport', 'OnlineBackup', 'MultipleLines', 'InternetService', 'DeviceProtection']\n",
    "\n",
    "fig, axes = plt.subplots(2,4,figsize=(20,15))\n",
    "\n",
    "# plot counter\n",
    "count=0\n",
    "for r in range(nrow):\n",
    "    for c in range(ncol):\n",
    "        df_list[count].plot(kind='bar', ax=axes[r,c] ,color = ['red', 'green','grey'], alpha=0.5, title = df_titles[count], ylabel ='No. Of People')\n",
    "        count+=1"
   ]
  },
  {
   "cell_type": "markdown",
   "id": "299350e0",
   "metadata": {},
   "source": [
    "### Data Visualisations of Services that each customer has signed up for\n",
    "* A large number of customers who do not stream movies have a high chance of churning followed by those who do stream movies and a small number of those who do not have internet service\n",
    "* We at a risk of customers who dont have phone services churning than those who have \n",
    "* A large number of customers that does not stream TV have a high chance of churning followed by those who have it and a very small number of those who does not have internet service \n",
    "* We have a large number of people who does not have tech supoort and have a high risk of churning followed by those who have tech support and a small number of those have dont have internet service \n",
    "* We have more than 90% of customers who dont have online backup and at risk of churning and less than 50% of those who do have online backup\n",
    "* There is a very small effect on a customer having mulyiplelines churning\n",
    "* A large number of customers on the fibre optic have a great chance to churn followed by DSL\n",
    "* Large number of people who does not have device protection has a large number of churning "
   ]
  },
  {
   "cell_type": "code",
   "execution_count": 301,
   "id": "d0dc3aaa",
   "metadata": {},
   "outputs": [
    {
     "data": {
      "text/plain": [
       "<AxesSubplot:title={'center':'PaymentMethod'}>"
      ]
     },
     "execution_count": 301,
     "metadata": {},
     "output_type": "execute_result"
    },
    {
     "data": {
      "image/png": "[encoded data removed]",
      "text/plain": [
       "<Figure size 432x288 with 1 Axes>"
      ]
     },
     "metadata": {
      "needs_background": "light"
     },
     "output_type": "display_data"
    }
   ],
   "source": [
    "dataset[dataset.Churn == 'Yes'].PaymentMethod.value_counts().plot(kind = 'bar', title ='PaymentMethod')"
   ]
  },
  {
   "cell_type": "markdown",
   "id": "6da80887",
   "metadata": {},
   "source": [
    "### Data Visualisations of Customer payment Method\n",
    "\n",
    "* A large number of customers on electronic check has a high chance of churning followed by mailed check \n",
    "* Bank transfer and Credit card payment has no effect on customer churning \n"
   ]
  },
  {
   "cell_type": "code",
   "execution_count": 302,
   "id": "f4618fcb",
   "metadata": {},
   "outputs": [
    {
     "data": {
      "text/plain": [
       "<AxesSubplot:title={'center':'PaperlessBilling'}>"
      ]
     },
     "execution_count": 302,
     "metadata": {},
     "output_type": "execute_result"
    },
    {
     "data": {
      "image/png": "[encoded data removed]",
      "text/plain": [
       "<Figure size 432x288 with 1 Axes>"
      ]
     },
     "metadata": {
      "needs_background": "light"
     },
     "output_type": "display_data"
    }
   ],
   "source": [
    "dataset[dataset.Churn == 'Yes'].PaperlessBilling.value_counts().plot(kind = 'bar', title = 'PaperlessBilling')"
   ]
  },
  {
   "cell_type": "markdown",
   "id": "cd058d13",
   "metadata": {},
   "source": [
    "### Data Visualisations of Customer Paperless Billing\n",
    "\n",
    "* The graph shows that a large number of customers on a paperless billing have churned\n"
   ]
  },
  {
   "cell_type": "markdown",
   "id": "3187fc61",
   "metadata": {},
   "source": [
    "## Data Cleaning\n",
    "\n",
    "### Categorical Variable Encoding\n",
    "We will encode categorical values with numberical ones on the some columns with catagorical values "
   ]
  },
  {
   "cell_type": "code",
   "execution_count": 303,
   "id": "30f777f9",
   "metadata": {},
   "outputs": [],
   "source": [
    "# Function that takes and dataframe and categorical feature name to be encoded and returns encoded dataframe\n",
    "def feat_encode(df, col_name):\n",
    "    # Get unique categories from column\n",
    "    keys = list(df[col_name].unique())\n",
    "    # Get index for each unique category to be encoded value\n",
    "    values = [val for val in range(len(keys))]\n",
    "    # Create dictionary of the above keys and values\n",
    "    encode_dict = dict(zip(keys,values))\n",
    "    # Alter dataframe entries by swapping each category name with values\n",
    "    df[col_name] = df[col_name].apply(lambda x: encode_dict[x])\n",
    "    # Return altered dataframe\n",
    "    return df"
   ]
  },
  {
   "cell_type": "code",
   "execution_count": 304,
   "id": "2ad47a9d",
   "metadata": {},
   "outputs": [],
   "source": [
    "def data_en(df):\n",
    "    le = LabelEncoder()\n",
    "    for col in df:\n",
    "        if df[col].dtypes== 'object':\n",
    "            df[col]=le.fit_transform(df[col])\n",
    "    return df"
   ]
  },
  {
   "cell_type": "code",
   "execution_count": 305,
   "id": "d7494f11",
   "metadata": {},
   "outputs": [],
   "source": [
    "#cols = ['gender','Partner','Dependents','PhoneService','TotalCharges','PaymentMethod','PaperlessBilling','Contract','StreamingMovies','StreamingTV','TechSupport','OnlineBackup','OnlineSecurity','MultipleLines','InternetService','DeviceProtection','Churn']\n",
    "#for name in cols:\n",
    "dataset = data_en(dataset)"
   ]
  },
  {
   "cell_type": "code",
   "execution_count": 306,
   "id": "a1a023eb",
   "metadata": {},
   "outputs": [
    {
     "data": {
      "image/png": "[encoded data removed]",
      "text/plain": [
       "<Figure size 720x720 with 1 Axes>"
      ]
     },
     "metadata": {
      "needs_background": "light"
     },
     "output_type": "display_data"
    }
   ],
   "source": [
    "from statsmodels.graphics.correlation import plot_corr\n",
    "\n",
    "fig = plt.figure(figsize=(10,10));\n",
    "ax = fig.add_subplot(111);\n",
    "plot_corr(dataset.corr(), xnames = dataset.corr().columns, ax=ax);"
   ]
  },
  {
   "cell_type": "markdown",
   "id": "c7ba6289",
   "metadata": {},
   "source": [
    "* From the above correlation matrix we see that there is a perfect correlation between SiniorCitizen and PaymentMethod, which makes sense since we only have few SeniorCitizen using bank transfer payment method.\n",
    "* There is also a high correlation between the PaperlessBilling and the monthlyCharges. Since is an easy way to receive your monthly statement and it clears the clutter of paper bills.\n",
    "* Finally, the SeniorCitizen and PaymentMethod would make a fairly good predictor for whether or not a person will Churn."
   ]
  },
  {
   "cell_type": "code",
   "execution_count": 307,
   "id": "5b2db18b",
   "metadata": {},
   "outputs": [
    {
     "data": {
      "text/html": [
       "<div>\n",
       "<style scoped>\n",
       "    .dataframe tbody tr th:only-of-type {\n",
       "        vertical-align: middle;\n",
       "    }\n",
       "\n",
       "    .dataframe tbody tr th {\n",
       "        vertical-align: top;\n",
       "    }\n",
       "\n",
       "    .dataframe thead th {\n",
       "        text-align: right;\n",
       "    }\n",
       "</style>\n",
       "<table border=\"1\" class=\"dataframe\">\n",
       "  <thead>\n",
       "    <tr style=\"text-align: right;\">\n",
       "      <th></th>\n",
       "      <th>Row</th>\n",
       "      <th>customerID</th>\n",
       "      <th>gender</th>\n",
       "      <th>SeniorCitizen</th>\n",
       "      <th>Partner</th>\n",
       "      <th>Dependents</th>\n",
       "      <th>tenure</th>\n",
       "      <th>PhoneService</th>\n",
       "      <th>MultipleLines</th>\n",
       "      <th>InternetService</th>\n",
       "      <th>...</th>\n",
       "      <th>DeviceProtection</th>\n",
       "      <th>TechSupport</th>\n",
       "      <th>StreamingTV</th>\n",
       "      <th>StreamingMovies</th>\n",
       "      <th>Contract</th>\n",
       "      <th>PaperlessBilling</th>\n",
       "      <th>PaymentMethod</th>\n",
       "      <th>MonthlyCharges</th>\n",
       "      <th>TotalCharges</th>\n",
       "      <th>Churn</th>\n",
       "    </tr>\n",
       "  </thead>\n",
       "  <tbody>\n",
       "    <tr>\n",
       "      <th>0</th>\n",
       "      <td>1</td>\n",
       "      <td>3216</td>\n",
       "      <td>0</td>\n",
       "      <td>0</td>\n",
       "      <td>1</td>\n",
       "      <td>0</td>\n",
       "      <td>71</td>\n",
       "      <td>1</td>\n",
       "      <td>2</td>\n",
       "      <td>1</td>\n",
       "      <td>...</td>\n",
       "      <td>2</td>\n",
       "      <td>0</td>\n",
       "      <td>2</td>\n",
       "      <td>2</td>\n",
       "      <td>1</td>\n",
       "      <td>1</td>\n",
       "      <td>1</td>\n",
       "      <td>104.10</td>\n",
       "      <td>4627</td>\n",
       "      <td>0</td>\n",
       "    </tr>\n",
       "    <tr>\n",
       "      <th>1</th>\n",
       "      <td>2</td>\n",
       "      <td>3379</td>\n",
       "      <td>0</td>\n",
       "      <td>0</td>\n",
       "      <td>1</td>\n",
       "      <td>1</td>\n",
       "      <td>43</td>\n",
       "      <td>1</td>\n",
       "      <td>2</td>\n",
       "      <td>1</td>\n",
       "      <td>...</td>\n",
       "      <td>2</td>\n",
       "      <td>0</td>\n",
       "      <td>0</td>\n",
       "      <td>2</td>\n",
       "      <td>0</td>\n",
       "      <td>1</td>\n",
       "      <td>0</td>\n",
       "      <td>92.55</td>\n",
       "      <td>2785</td>\n",
       "      <td>0</td>\n",
       "    </tr>\n",
       "    <tr>\n",
       "      <th>2</th>\n",
       "      <td>3</td>\n",
       "      <td>1490</td>\n",
       "      <td>1</td>\n",
       "      <td>1</td>\n",
       "      <td>0</td>\n",
       "      <td>0</td>\n",
       "      <td>29</td>\n",
       "      <td>1</td>\n",
       "      <td>0</td>\n",
       "      <td>1</td>\n",
       "      <td>...</td>\n",
       "      <td>2</td>\n",
       "      <td>0</td>\n",
       "      <td>2</td>\n",
       "      <td>2</td>\n",
       "      <td>0</td>\n",
       "      <td>1</td>\n",
       "      <td>0</td>\n",
       "      <td>101.45</td>\n",
       "      <td>2050</td>\n",
       "      <td>0</td>\n",
       "    </tr>\n",
       "    <tr>\n",
       "      <th>3</th>\n",
       "      <td>4</td>\n",
       "      <td>4450</td>\n",
       "      <td>0</td>\n",
       "      <td>0</td>\n",
       "      <td>1</td>\n",
       "      <td>0</td>\n",
       "      <td>15</td>\n",
       "      <td>1</td>\n",
       "      <td>0</td>\n",
       "      <td>1</td>\n",
       "      <td>...</td>\n",
       "      <td>2</td>\n",
       "      <td>0</td>\n",
       "      <td>2</td>\n",
       "      <td>0</td>\n",
       "      <td>0</td>\n",
       "      <td>1</td>\n",
       "      <td>2</td>\n",
       "      <td>84.30</td>\n",
       "      <td>450</td>\n",
       "      <td>1</td>\n",
       "    </tr>\n",
       "    <tr>\n",
       "      <th>4</th>\n",
       "      <td>5</td>\n",
       "      <td>978</td>\n",
       "      <td>1</td>\n",
       "      <td>0</td>\n",
       "      <td>1</td>\n",
       "      <td>1</td>\n",
       "      <td>65</td>\n",
       "      <td>1</td>\n",
       "      <td>2</td>\n",
       "      <td>1</td>\n",
       "      <td>...</td>\n",
       "      <td>2</td>\n",
       "      <td>2</td>\n",
       "      <td>0</td>\n",
       "      <td>0</td>\n",
       "      <td>2</td>\n",
       "      <td>0</td>\n",
       "      <td>1</td>\n",
       "      <td>94.55</td>\n",
       "      <td>3992</td>\n",
       "      <td>0</td>\n",
       "    </tr>\n",
       "  </tbody>\n",
       "</table>\n",
       "<p>5 rows × 22 columns</p>\n",
       "</div>"
      ],
      "text/plain": [
       "   Row  customerID  gender  SeniorCitizen  Partner  Dependents  tenure  \\\n",
       "0    1        3216       0              0        1           0      71   \n",
       "1    2        3379       0              0        1           1      43   \n",
       "2    3        1490       1              1        0           0      29   \n",
       "3    4        4450       0              0        1           0      15   \n",
       "4    5         978       1              0        1           1      65   \n",
       "\n",
       "   PhoneService  MultipleLines  InternetService  ...  DeviceProtection  \\\n",
       "0             1              2                1  ...                 2   \n",
       "1             1              2                1  ...                 2   \n",
       "2             1              0                1  ...                 2   \n",
       "3             1              0                1  ...                 2   \n",
       "4             1              2                1  ...                 2   \n",
       "\n",
       "   TechSupport  StreamingTV  StreamingMovies  Contract  PaperlessBilling  \\\n",
       "0            0            2                2         1                 1   \n",
       "1            0            0                2         0                 1   \n",
       "2            0            2                2         0                 1   \n",
       "3            0            2                0         0                 1   \n",
       "4            2            0                0         2                 0   \n",
       "\n",
       "   PaymentMethod  MonthlyCharges  TotalCharges  Churn  \n",
       "0              1          104.10          4627      0  \n",
       "1              0           92.55          2785      0  \n",
       "2              0          101.45          2050      0  \n",
       "3              2           84.30           450      1  \n",
       "4              1           94.55          3992      0  \n",
       "\n",
       "[5 rows x 22 columns]"
      ]
     },
     "execution_count": 307,
     "metadata": {},
     "output_type": "execute_result"
    }
   ],
   "source": [
    "dataset.head()"
   ]
  },
  {
   "cell_type": "markdown",
   "id": "86576bc5",
   "metadata": {},
   "source": [
    "### Variable Selection and Preprocessing"
   ]
  },
  {
   "cell_type": "code",
   "execution_count": 308,
   "id": "19ae9fa6",
   "metadata": {},
   "outputs": [],
   "source": [
    "def data_preprocess(df):\n",
    "    le = LabelEncoder()\n",
    "    for col in df:\n",
    "        if df[col].dtypes== 'object':\n",
    "            df[col]=le.fit_transform(df[col])\n",
    "    X = df[['tenure','Contract', 'PaperlessBilling', 'MonthlyCharges', 'TechSupport']]\n",
    "    y = df.Churn\n",
    "    scaler = MinMaxScaler(feature_range=(0, 1))\n",
    "    rescaledX = scaler.fit_transform(X)\n",
    "    X_train, X_test, y_train, y_test = train_test_split(rescaledX,\n",
    "                                y,\n",
    "                                test_size=0.2,\n",
    "                                random_state=42)\n",
    "    return (X_train, y_train), (X_test, y_test)"
   ]
  },
  {
   "cell_type": "code",
   "execution_count": 309,
   "id": "b9a7a6af",
   "metadata": {},
   "outputs": [
    {
     "name": "stdout",
     "output_type": "stream",
     "text": [
      "[[0.29166667 0.         0.         0.46865672 0.        ]]\n",
      "4082    0\n",
      "Name: Churn, dtype: int32\n",
      "[[0.23611111 0.         1.         0.50497512 1.        ]]\n",
      "2121    0\n",
      "Name: Churn, dtype: int32\n"
     ]
    }
   ],
   "source": [
    "(X_train, y_train), (X_test, y_test) = data_preprocess(dataset)\n",
    "print(X_train[:1])\n",
    "print(y_train[:1])\n",
    "print(X_test[:1])\n",
    "print(y_test[:1])"
   ]
  },
  {
   "cell_type": "code",
   "execution_count": 310,
   "id": "1f5c91b7",
   "metadata": {},
   "outputs": [],
   "source": [
    "def train_model(X_train, y_train):\n",
    "    lm = LogisticRegression()\n",
    "    lm.fit(X_train,y_train)\n",
    "    return lm"
   ]
  },
  {
   "cell_type": "markdown",
   "id": "7e79901a",
   "metadata": {},
   "source": [
    "## Testing Our Models\n",
    "Models to Evaluate\n",
    "We will use logistic regression validate scores "
   ]
  },
  {
   "cell_type": "code",
   "execution_count": 311,
   "id": "ec2768bc",
   "metadata": {},
   "outputs": [],
   "source": [
    "# Function to calculate mean absolute error\n",
    "def cross_val(X_train, y_train, model):\n",
    "    # Applying k-Fold Cross Validation\n",
    "    from sklearn.model_selection import cross_val_score\n",
    "    accuracies = cross_val_score(estimator = model, X = X_train, y = y_train, cv = 10)\n",
    "    return accuracies.mean()"
   ]
  },
  {
   "cell_type": "code",
   "execution_count": 312,
   "id": "ecf34b66",
   "metadata": {},
   "outputs": [],
   "source": [
    "# Function to calculate predictions\n",
    "def get_predicitons(model, X_test):\n",
    "    # Make predictions using selected model\n",
    "    model_pred = model.predict(X_test)\n",
    "    # Return model predictions\n",
    "    return model_pred"
   ]
  },
  {
   "cell_type": "code",
   "execution_count": 313,
   "id": "99f09002",
   "metadata": {},
   "outputs": [],
   "source": [
    "# Takes in a model, trains the model, and evaluates the model on the test set\n",
    "def evaluate(model):\n",
    "    # Train the model\n",
    "    model.fit(X_train, y_train)\n",
    "    # Make predictions and evalute\n",
    "    model_cross = cross_val(X_train, y_train, model)\n",
    "    # Return the performance metric\n",
    "    return model_cross"
   ]
  },
  {
   "cell_type": "code",
   "execution_count": 314,
   "id": "d06faea7",
   "metadata": {},
   "outputs": [],
   "source": [
    "# Classification Models used to classify the data\n",
    "lm = LogisticRegression(solver='lbfgs')"
   ]
  },
  {
   "cell_type": "code",
   "execution_count": 315,
   "id": "0c8658be",
   "metadata": {},
   "outputs": [
    {
     "name": "stdout",
     "output_type": "stream",
     "text": [
      "Logistic Regression Cross Validation Score:  0.7878856861295885\n"
     ]
    }
   ],
   "source": [
    "print('Logistic Regression Cross Validation Score: ', evaluate(lm))"
   ]
  },
  {
   "cell_type": "markdown",
   "id": "a8dff5b6",
   "metadata": {},
   "source": [
    "\n",
    "## Insights and Conclusion\n",
    "\n",
    "From our analysis it is highly recommended that we persue one or two year contract since they turn to low risk of churning, From our Visualization we discoverd that Senior citizen turned to churn less, from our payment method, Credit card customers churn less, From our Paperless Billing, customers with no paperless billing have a low risk of churning \n",
    "\n",
    "\n",
    "To improve prediction results, data that includes customer Tenure, contract,Monthly payment and Tech support would highly improved the predictions on whether an individual will churn or not \n",
    "\n",
    "For more improvements on this assessment more indepth analysis on the datasests on things and visualisations on customer performance based on demographics and previous Customer Churning would definetly help in making more informed and accurate recommendations to a client and also improve model predictions.\n"
   ]
  },
  {
   "cell_type": "code",
   "execution_count": null,
   "id": "b70eac48",
   "metadata": {},
   "outputs": [],
   "source": []
  }
 ],
 "metadata": {
  "kernelspec": {
   "display_name": "Python 3",
   "language": "python",
   "name": "python3"
  },
  "language_info": {
   "codemirror_mode": {
    "name": "ipython",
    "version": 3
   },
   "file_extension": ".py",
   "mimetype": "text/x-python",
   "name": "python",
   "nbconvert_exporter": "python",
   "pygments_lexer": "ipython3",
   "version": "3.8.8"
  }
 },
 "nbformat": 4,
 "nbformat_minor": 5
}
